{
 "cells": [
  {
   "cell_type": "code",
   "execution_count": null,
   "id": "5cc4428a",
   "metadata": {},
   "outputs": [],
   "source": [
    "import rospy\n",
    "import actionlib\n",
    "from move_base_msgs.msg import *\n",
    "from actionlib_msgs.msg import *\n"
   ]
  },
  {
   "cell_type": "code",
   "execution_count": 5,
   "id": "335de9e6",
   "metadata": {
    "ExecuteTime": {
     "end_time": "2022-05-18T13:29:23.725806Z",
     "start_time": "2022-05-18T13:29:23.360921Z"
    }
   },
   "outputs": [
    {
     "name": "stderr",
     "output_type": "stream",
     "text": [
      "Traceback (most recent call last):\n",
      "  File \"/opt/ros/noetic/bin/roslaunch\", line 34, in <module>\n",
      "    import roslaunch\n",
      "  File \"/opt/ros/noetic/lib/python3/dist-packages/roslaunch/__init__.py\", line 51, in <module>\n",
      "    from . import core as roslaunch_core\n",
      "  File \"/opt/ros/noetic/lib/python3/dist-packages/roslaunch/core.py\", line 46, in <module>\n",
      "    from xmlrpc.client import MultiCall, ServerProxy\n",
      "  File \"/usr/lib/python3.8/xmlrpc/client.py\", line 136, in <module>\n",
      "    import http.client\n",
      "  File \"/usr/lib/python3.8/http/client.py\", line 71, in <module>\n",
      "    import email.parser\n",
      "  File \"/usr/lib/python3.8/email/parser.py\", line 12, in <module>\n",
      "    from email.feedparser import FeedParser, BytesFeedParser\n",
      "  File \"/usr/lib/python3.8/email/feedparser.py\", line 27, in <module>\n",
      "    from email._policybase import compat32\n",
      "  File \"/usr/lib/python3.8/email/_policybase.py\", line 7, in <module>\n",
      "    from email import header\n",
      "  File \"/usr/lib/python3.8/email/header.py\", line 35, in <module>\n",
      "    ecre = re.compile(r'''\n",
      "  File \"/usr/lib/python3.8/re.py\", line 252, in compile\n",
      "    return _compile(pattern, flags)\n",
      "  File \"/usr/lib/python3.8/re.py\", line 304, in _compile\n",
      "    p = sre_compile.compile(pattern, flags)\n",
      "  File \"/usr/lib/python3.8/sre_compile.py\", line 764, in compile\n",
      "    p = sre_parse.parse(p, flags)\n",
      "  File \"/usr/lib/python3.8/sre_parse.py\", line 948, in parse\n",
      "    p = _parse_sub(source, state, flags & SRE_FLAG_VERBOSE, 0)\n",
      "  File \"/usr/lib/python3.8/sre_parse.py\", line 443, in _parse_sub\n",
      "    itemsappend(_parse(source, state, verbose, nested + 1,\n",
      "  File \"/usr/lib/python3.8/sre_parse.py\", line 515, in _parse\n",
      "    if this in WHITESPACE:\n",
      "KeyboardInterrupt\n",
      "Traceback (most recent call last):\n",
      "  File \"/opt/ros/noetic/bin/roslaunch\", line 34, in <module>\n",
      "    import roslaunch\n",
      "  File \"/opt/ros/noetic/lib/python3/dist-packages/roslaunch/__init__.py\", line 52, in <module>\n",
      "    from . import param_dump as roslaunch_param_dump\n",
      "  File \"/opt/ros/noetic/lib/python3/dist-packages/roslaunch/param_dump.py\", line 40, in <module>\n",
      "    import roslaunch.config\n",
      "  File \"/opt/ros/noetic/lib/python3/dist-packages/roslaunch/config.py\", line 45, in <module>\n",
      "    import rospkg.distro\n",
      "  File \"/usr/lib/python3/dist-packages/rospkg/distro.py\", line 44, in <module>\n",
      "    import yaml\n",
      "  File \"/usr/lib/python3/dist-packages/yaml/__init__.py\", line 13, in <module>\n",
      "    from .cyaml import *\n",
      "  File \"/usr/lib/python3/dist-packages/yaml/cyaml.py\", line 7, in <module>\n",
      "    from _yaml import CParser, CEmitter\n",
      "  File \"<frozen importlib._bootstrap>\", line 991, in _find_and_load\n",
      "  File \"<frozen importlib._bootstrap>\", line 971, in _find_and_load_unlocked\n",
      "  File \"<frozen importlib._bootstrap>\", line 914, in _find_spec\n",
      "  File \"<frozen importlib._bootstrap_external>\", line 1407, in find_spec\n",
      "  File \"<frozen importlib._bootstrap_external>\", line 1379, in _get_spec\n",
      "  File \"<frozen importlib._bootstrap_external>\", line 1534, in find_spec\n",
      "  File \"<frozen importlib._bootstrap_external>\", line 123, in _path_join\n",
      "KeyboardInterrupt\n"
     ]
    },
    {
     "data": {
      "text/plain": [
       "2"
      ]
     },
     "execution_count": 5,
     "metadata": {},
     "output_type": "execute_result"
    }
   ],
   "source": [
    "\n",
    "from assignment3.srv import robot_coordinates\n",
    "\n",
    "def handler(req):\n",
    "    #save axis positions entered by the user \n",
    "    x = req.x\n",
    "    y = req.y\n",
    "    \n",
    "    #Starting the action \n",
    "    client = actionlib.SimpleActionClient('move_base', MoveBaseAction)\n",
    "    #wait for  server \n",
    "    client.wait_for_server()\n",
    "    \n",
    "\n",
    "    #create and set the goal which entered by the user and check if it's reachable or not and if not cancel the goal\n",
    "    goal = MoveBaseGoal()\n",
    "    \n",
    "    goal.target_pose.header.frame_id = 'map'\n",
    "    goal.target_pose.pose.orientation.w = 1\n",
    "    goal.target_pose.pose.position.x = x\n",
    "    goal.target_pose.pose.position.y = y\n",
    "    #send the goal to client\n",
    "    client.send_goal(goal)\n",
    "    wait = client.wait_for_result(timeout=rospy.Duration(50.0))\n",
    "    if not wait:\n",
    "        #if it's in this loop means the target not reachable(out of range)\n",
    "    \tprint(\"abort the mission!!\")\n",
    "    \tclient.cancel_goal()\n",
    "    \treturn -1\n",
    "    #out the loop the target reachable\n",
    "    return 1\n",
    "\n",
    "\n",
    "   \n",
    "\n",
    "#main\n",
    "if __name__==\"__main__\":\n",
    "    \n",
    "    print(\"choice one node started  (autonomous node )\")\n",
    "    rospy.init_node('coordinate_autonomous')\n",
    "    s = rospy.Service('robot_coordinates' ,robot_coordinates ,handler)\n",
    "    print(\"service ready\")\n",
    "    rospy.spin()\n",
    "\n"
   ]
  },
  {
   "cell_type": "code",
   "execution_count": 6,
   "id": "768de83b",
   "metadata": {
    "ExecuteTime": {
     "end_time": "2022-05-18T13:29:23.922924Z",
     "start_time": "2022-05-18T13:29:23.754604Z"
    }
   },
   "outputs": [
    {
     "name": "stderr",
     "output_type": "stream",
     "text": [
      "Traceback (most recent call last):\n",
      "  File \"/opt/ros/noetic/bin/roslaunch\", line 34, in <module>\n",
      "    import roslaunch\n",
      "  File \"/opt/ros/noetic/lib/python3/dist-packages/roslaunch/__init__.py\", line 39, in <module>\n",
      "    import rospkg\n",
      "  File \"/usr/lib/python3/dist-packages/rospkg/__init__.py\", line 42, in <module>\n",
      "    from .rospack import expand_to_packages, get_package_name, \\\n",
      "  File \"/usr/lib/python3/dist-packages/rospkg/rospack.py\", line 37, in <module>\n",
      "    from xml.etree.cElementTree import ElementTree\n",
      "  File \"/usr/lib/python3.8/xml/etree/cElementTree.py\", line 3, in <module>\n",
      "    from xml.etree.ElementTree import *\n",
      "  File \"<frozen importlib._bootstrap>\", line 991, in _find_and_load\n",
      "  File \"<frozen importlib._bootstrap>\", line 975, in _find_and_load_unlocked\n",
      "  File \"<frozen importlib._bootstrap>\", line 671, in _load_unlocked\n",
      "  File \"<frozen importlib._bootstrap_external>\", line 844, in exec_module\n",
      "  File \"<frozen importlib._bootstrap_external>\", line 976, in get_code\n",
      "  File \"<frozen importlib._bootstrap_external>\", line 640, in _compile_bytecode\n",
      "KeyboardInterrupt\n"
     ]
    },
    {
     "data": {
      "text/plain": [
       "2"
      ]
     },
     "execution_count": 6,
     "metadata": {},
     "output_type": "execute_result"
    }
   ],
   "source": [
    "os.system(\"roslaunch assignment3 main_launcher.launch\")\n"
   ]
  },
  {
   "cell_type": "code",
   "execution_count": null,
   "id": "a53b138a",
   "metadata": {},
   "outputs": [],
   "source": []
  }
 ],
 "metadata": {
  "kernelspec": {
   "display_name": "Python 3 (ipykernel)",
   "language": "python",
   "name": "python3"
  },
  "language_info": {
   "codemirror_mode": {
    "name": "ipython",
    "version": 3
   },
   "file_extension": ".py",
   "mimetype": "text/x-python",
   "name": "python",
   "nbconvert_exporter": "python",
   "pygments_lexer": "ipython3",
   "version": "3.8.10"
  },
  "toc": {
   "base_numbering": 1,
   "nav_menu": {},
   "number_sections": true,
   "sideBar": true,
   "skip_h1_title": false,
   "title_cell": "Table of Contents",
   "title_sidebar": "Contents",
   "toc_cell": false,
   "toc_position": {},
   "toc_section_display": true,
   "toc_window_display": false
  },
  "varInspector": {
   "cols": {
    "lenName": 16,
    "lenType": 16,
    "lenVar": 40
   },
   "kernels_config": {
    "python": {
     "delete_cmd_postfix": "",
     "delete_cmd_prefix": "del ",
     "library": "var_list.py",
     "varRefreshCmd": "print(var_dic_list())"
    },
    "r": {
     "delete_cmd_postfix": ") ",
     "delete_cmd_prefix": "rm(",
     "library": "var_list.r",
     "varRefreshCmd": "cat(var_dic_list()) "
    }
   },
   "types_to_exclude": [
    "module",
    "function",
    "builtin_function_or_method",
    "instance",
    "_Feature"
   ],
   "window_display": false
  }
 },
 "nbformat": 4,
 "nbformat_minor": 5
}
