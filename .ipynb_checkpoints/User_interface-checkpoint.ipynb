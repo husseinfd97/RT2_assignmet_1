{
 "cells": [
  {
   "cell_type": "code",
   "execution_count": 5,
   "id": "f24d2148",
   "metadata": {
    "ExecuteTime": {
     "end_time": "2022-05-25T22:43:54.896497Z",
     "start_time": "2022-05-25T22:43:54.757334Z"
    }
   },
   "outputs": [],
   "source": [
    "%matplotlib widget\n",
    "\n",
    "\n",
    "import ipywidgets as widgets \n",
    "import ipywidgets as GridBox \n",
    "import ipywidgets as Layout\n",
    "from ipywidgets import ButtonStyle\n",
    "\n",
    "from IPython.display import clear_output\n",
    "\n",
    "import jupyros as jr\n",
    "import rospy\n",
    "\n",
    "from std_msgs.msg import String\n",
    "\n",
    "from IPython.display import display\n",
    "\n",
    "from geometry_msgs.msg import Twist, Vector3    #for cmd_vel topic\n",
    "\n",
    "from jupyros import ros3d\n",
    "import os\n",
    "\n",
    "\n",
    "import matplotlib.pyplot as plt\n",
    "import tf\n",
    "from nav_msgs.msg import Odometry\n",
    "from sensor_msgs.msg import LaserScan\n",
    "from tf.transformations import quaternion_matrix\n",
    "import numpy as np\n",
    "from matplotlib.animation import FuncAnimation\n",
    "# case 1\n",
    "from assignment3.srv import robot_coordinates\t\n",
    "import actionlib\n",
    "from move_base_msgs.msg import *\n",
    "from actionlib_msgs.msg import *\n",
    "\n",
    "\n"
   ]
  },
  {
   "cell_type": "code",
   "execution_count": 6,
   "id": "3543d922",
   "metadata": {
    "ExecuteTime": {
     "end_time": "2022-05-25T22:43:54.951417Z",
     "start_time": "2022-05-25T22:43:54.940176Z"
    }
   },
   "outputs": [],
   "source": [
    "def set_ang_lin_vel(direction_choice):\n",
    "         #####direction_choice is considerable##### \n",
    "    #                     up(i)     \n",
    "    #        left(j)    stop(s)  right(l)\n",
    "    #                     down(k)   \n",
    "    \n",
    "\n",
    "    \n",
    "    #initialize a Twist geometry_msg vector3 in x, y and z\n",
    "    init = Vector3(0, 0, 0)\n",
    "    total_vel = Twist(init,init)\n",
    "    \n",
    "    v_lin = 0.5\n",
    "    v_ang = 0.5\n",
    "    \n",
    "\n",
    "    if direction_choice == \"i\":\n",
    "        print(\"forwaard_pressed\")\n",
    "        total_vel.linear.x = v_lin\n",
    "        total_vel.angular.z = 0\n",
    "        \n",
    "    elif direction_choice == \"j\":\n",
    "        print(\"left pressed\")\n",
    "        total_vel.angular.z = v_ang\n",
    "        total_vel.linear.x = 0\n",
    "        \n",
    "    elif direction_choice == \"s\":\n",
    "        print(\"stop_pressed\")\n",
    "        total_vel.angular.z = 0\n",
    "        total_vel.linear.x = 0\n",
    "    elif direction_choice == \"l\":\n",
    "        print(\"right_pressed\")\n",
    "        total_vel.angular.z = -v_ang\n",
    "        total_vel.linear.x = 0\n",
    "\n",
    "    elif direction_choice == \"k\":\n",
    "        print(\"back_pressed\")\n",
    "        total_vel.linear.x = -v_lin\n",
    "        total_vel.angular.z = 0\n",
    "    \n",
    "    \n",
    "    #initialize the publisher\n",
    "    pub = rospy.Publisher('/map_update_cmd_vel',Twist, queue_size=10)\n",
    "    #pubblic on topic cmd_vel to the robot\n",
    "    pub.publish(total_vel)\n",
    "    "
   ]
  },
  {
   "cell_type": "code",
   "execution_count": 7,
   "id": "dff724d2",
   "metadata": {
    "ExecuteTime": {
     "end_time": "2022-05-25T22:43:55.020635Z",
     "start_time": "2022-05-25T22:43:54.961634Z"
    }
   },
   "outputs": [],
   "source": [
    "def drive_interface():\n",
    "    #display all the buttons for manually drive the robot and change driving mode\n",
    "\n",
    "\n",
    "#    display(buttonUP, buttonDOWN, buttonLEFT, buttonRIGHT, buttonPAUSE, obstacle_avoidance)\n",
    "    display(direction_box)\n",
    "    display(obstacle_avoidance)\n",
    "    display(button4)\n",
    "    \n",
    "        \n",
    "    FORWARD_b.on_click(on_button_clicked_UP)\n",
    "    BACKWARD_b.on_click(on_button_clicked_DOWN)\n",
    "    STOP_b.on_click(on_button_clicked_PAUSE)\n",
    "    GO_LEFT_b.on_click(on_button_clicked_LEFT)\n",
    "    GO_RIGH_b.on_click(on_button_clicked_RIGHT)\n",
    "   \n",
    "    \n",
    "\n",
    "    obstacle_avoidance.observe(obstacle_avoidance_handler, names='value')\n",
    "    \n",
    "    button4.on_click(on_button_clicked_back_to_menu)\n",
    "    "
   ]
  },
  {
   "cell_type": "code",
   "execution_count": 8,
   "id": "8c3a6207",
   "metadata": {
    "ExecuteTime": {
     "end_time": "2022-05-25T22:43:55.132533Z",
     "start_time": "2022-05-25T22:43:55.043561Z"
    }
   },
   "outputs": [],
   "source": [
    "def display_map():\n",
    "    #display a live map of the working enviroment of the robot\n",
    "    \n",
    "    v = ros3d.Viewer()\n",
    "    rc = ros3d.ROSConnection(url=\"ws://localhost:9090\")\n",
    "    tf_client = ros3d.TFClient(ros=rc, fixed_frame='map')\n",
    "\n",
    "    laser_view = ros3d.LaserScan(topic=\"/scan\", ros=rc, tf_client=tf_client)\n",
    "    map_view = ros3d.OccupancyGrid(topic=\"/map\", ros=rc, tf_client=tf_client, continuous=True)\n",
    "    path = ros3d.Path(topic=\"/move_base/NavfnROS/plan\", ros=rc,\n",
    "    tf_client=tf_client)\n",
    "    urdf = ros3d.URDFModel(ros=rc, tf_client=tf_client,\n",
    "    path=os.environ.get('JUPYROS_ASSETS_URL', 'http://localhost:3000'))\n",
    "    g = ros3d.GridModel()\n",
    "\n",
    "    \n",
    "    v.objects = [laser_view, map_view, urdf]\n",
    "\n",
    "    display(v)\n",
    "    # display ros3d\n",
    "    display_map()"
   ]
  },
  {
   "cell_type": "code",
   "execution_count": 9,
   "id": "738828fa",
   "metadata": {},
   "outputs": [],
   "source": [
    "#call back functions for the on_button_click events\n",
    "#Autonmous drive button \n",
    "def on_button_clicked_autonomous_drive(b):\n",
    "    with output:\n",
    "        button1.disabled=True\n",
    "        button2.disabled=True\n",
    "        #display the x and y input from user and start and back to main minu buttons\n",
    "        display(x, y, button3, button4)\n",
    "          \n",
    "        button3.on_click(on_button_clicked_start_move)\n",
    "        button4.on_click(on_button_clicked_back_to_menu)"
   ]
  },
  {
   "cell_type": "code",
   "execution_count": 10,
   "id": "57000649",
   "metadata": {},
   "outputs": [],
   "source": [
    "#drive robot button        \n",
    "def on_button_keyborad_display(b):\n",
    "    with output:\n",
    "        #Display keyboard interface to set directions of movement \n",
    "        \n",
    "        button2.disabled=True\n",
    "        button1.disabled=True\n",
    "        \n",
    "        drive_interface()"
   ]
  },
  {
   "cell_type": "code",
   "execution_count": 11,
   "id": "18e70a5c",
   "metadata": {},
   "outputs": [],
   "source": [
    "def on_button_clicked_back_to_menu(b):\n",
    "    with output:\n",
    "        clear_output()\n",
    "        button1.disabled=False\n",
    "        button2.disabled=False\n",
    "        button3.disabled=False"
   ]
  },
  {
   "cell_type": "code",
   "execution_count": 12,
   "id": "50289d28",
   "metadata": {
    "ExecuteTime": {
     "end_time": "2022-05-25T22:43:55.283683Z",
     "start_time": "2022-05-25T22:43:55.230255Z"
    }
   },
   "outputs": [],
   "source": [
    "#vector of the reached/not reached target for the autonomous navigation mode\n",
    "reached_task = []        \n",
    "#submit the cordinats using services (start moving ) and wait for response for the robot to reach the coordinats         \n",
    "def on_button_clicked_start_move(b):\n",
    "    with output:\n",
    "        print(\"Button 3\")\n",
    "        button3.disabled=True\n",
    "        print(\"heading to: \",x.value, y.value)\n",
    "        rospy.wait_for_service('robot_coordinates')\n",
    "        Robot_coordinates = rospy.ServiceProxy('robot_coordinates', robot_coordinates)\n",
    "        rt = Robot_coordinates(x.value , y.value)\n",
    "        if rt.return_ == 1:\n",
    "            print(\"target reached successfully!\")\n",
    "            reached_task.append('reached')\n",
    "        else:\n",
    "            print(\"time out, target not reached\")\n",
    "            reached_task.append('not reached')\n",
    "        \n",
    "        display(button4)\n",
    "        button4.on_click(on_button_clicked_back_to_menu)\n",
    "    "
   ]
  },
  {
   "cell_type": "code",
   "execution_count": 13,
   "id": "17fa27c8",
   "metadata": {
    "ExecuteTime": {
     "end_time": "2022-05-25T22:13:32.067109Z",
     "start_time": "2022-05-25T22:13:32.025118Z"
    }
   },
   "outputs": [],
   "source": [
    "#All Buttons actions cell \n",
    "\n",
    "def on_button_clicked_UP(b):\n",
    "    set_ang_lin_vel(\"i\")\n",
    "def on_button_clicked_DOWN(b):\n",
    "    set_ang_lin_vel(\"k\")\n",
    "def on_button_clicked_LEFT(b):\n",
    "    set_ang_lin_vel(\"j\")\n",
    "def on_button_clicked_RIGHT(b):\n",
    "    set_ang_lin_vel(\"l\")\n",
    "def on_button_clicked_PAUSE(b):\n",
    "    set_ang_lin_vel(\"s\")\n",
    "\n",
    "#modify the value of the ROS parameter for collision avoidance control\n",
    "def obstacle_avoidance_handler(b):\n",
    "    rospy.set_param(\"/obstical_avoidance_with_keyboard\", obstacle_avoidance.value)\n",
    "    "
   ]
  },
  {
   "cell_type": "code",
   "execution_count": 17,
   "id": "8d36ae32",
   "metadata": {},
   "outputs": [],
   "source": [
    "#intialization of the ros node 'user_interface'\n",
    "rospy.init_node('user_interface')"
   ]
  },
  {
   "cell_type": "code",
   "execution_count": 24,
   "id": "24ff2d3f",
   "metadata": {},
   "outputs": [
    {
     "data": {
      "application/vnd.jupyter.widget-view+json": {
       "model_id": "38b084e84320444aadd246d257d9a5cc",
       "version_major": 2,
       "version_minor": 0
      },
      "text/plain": [
       "Button(description='case 1:autonomous', style=ButtonStyle(button_color='lightblue'))"
      ]
     },
     "metadata": {},
     "output_type": "display_data"
    },
    {
     "data": {
      "application/vnd.jupyter.widget-view+json": {
       "model_id": "77d90b5b6f284b2dbe8d55b6b0035f86",
       "version_major": 2,
       "version_minor": 0
      },
      "text/plain": [
       "Button(description='case2: drive keyboard', style=ButtonStyle(button_color='lightblue'))"
      ]
     },
     "metadata": {},
     "output_type": "display_data"
    },
    {
     "data": {
      "application/vnd.jupyter.widget-view+json": {
       "model_id": "5efbd8447a8241f8ba63cd7cee7ae3bc",
       "version_major": 2,
       "version_minor": 0
      },
      "text/plain": [
       "Output()"
      ]
     },
     "metadata": {},
     "output_type": "display_data"
    }
   ],
   "source": [
    "#creat all buttons used \n",
    "#creat_buttons()\n",
    "#widget used for displaying the control button in a simple configuration\n",
    "#direction_box_display()\n",
    "\n",
    "box_layout = widgets.Layout(display='flex',\n",
    "                flex_flow='column',\n",
    "                align_items='center',\n",
    "                width='50%')\n",
    "\n",
    "\n",
    "\n",
    "button1 = widgets.Button(description=\"case 1:autonomous\")\n",
    "#b = widgets.Button(description = 'do') \n",
    "button1.style.button_color = 'lightblue'\n",
    "button2 = widgets.Button(description=\"case2: drive keyboard\")\n",
    "button2.style.button_color = 'lightblue'\n",
    "button3 = widgets.Button(description=\"start the case\")\n",
    "button3.style.button_color = 'green'\n",
    "button4 = widgets.Button(description=\"back to main menu\")\n",
    "button4.style.button_color = 'yellow'\n",
    "#movement interface buttons\n",
    "FORWARD_b = widgets.Button(description=\"FORWARD\")\n",
    "FORWARD_b.style.button_color = 'lightgreen'\n",
    "BACKWARD_b = widgets.Button(description=\"BACKWARD\")\n",
    "BACKWARD_b.style.button_color = 'lightgreen'\n",
    "STOP_b = widgets.Button(description=\"STOP\")\n",
    "STOP_b.style.button_color = 'red'\n",
    "GO_LEFT_b = widgets.Button(description=\"LEFT\")\n",
    "GO_LEFT_b.style.button_color = 'lightgreen'\n",
    "GO_RIGH_b = widgets.Button(description=\"right\")\n",
    "GO_RIGH_b.style.button_color = 'lightgreen'\n",
    "\n",
    "# GridBox(children=[FORWARD_b, BACKWARD_b, STOP_b,GO_LEFT_b,GO_RIGH_b],\n",
    "#      layout = Layout (\n",
    "#         width='40%',\n",
    "#         grid_template_rows='auto auto',\n",
    "#         grid_template_columns='20% 20% 20% 20%',\n",
    "#         grid_template_areas='''\n",
    "#                     \" .  FORWARD_b . \"\n",
    "#         \" GO_LEFT_b . STOP_b STOP_b . GO_RIGH_b \"\n",
    "#                     \" . BACKWARD_b .\"\n",
    "#          ''')\n",
    "# )\n",
    "\n",
    "\n",
    "direction_box = widgets.VBox(\n",
    "    [widgets.HBox(children=[FORWARD_b],layout=box_layout),\n",
    "    widgets.HBox( [ GO_LEFT_b  ,  STOP_b  ,   GO_RIGH_b ]),\n",
    "    widgets.HBox( children=[BACKWARD_b],layout=box_layout)]\n",
    "     )\n",
    "#obstacle_avoidance checkbox for activate the obstical avoidance optiont\n",
    "#obstical_avoidance_checkbox()\n",
    "obstacle_avoidance = widgets.Checkbox(\n",
    "        value = False,\n",
    "        description='active obstacles avoidance'\n",
    "    )\n",
    "#boxes for entering the coordinate of the taget to reach\n",
    "x = widgets.FloatText(description=\"x coordinate: \")\n",
    "y = widgets.FloatText(description=\"y coordinate: \")\n",
    "\n",
    "\n",
    "\n",
    "#create an output cell\n",
    "output = widgets.Output()\n",
    "\n",
    "#display both choices buttons and output in the main minu\n",
    "display(button1, button2, output)\n",
    "\n",
    "#action done when pressing buttons 1,2\n",
    "button1.on_click(on_button_clicked_autonomous_drive)\n",
    "\n",
    "button2.on_click(on_button_keyborad_display)\n"
   ]
  },
  {
   "cell_type": "code",
   "execution_count": 9,
   "id": "e95e9d4f",
   "metadata": {
    "ExecuteTime": {
     "end_time": "2022-05-25T22:43:57.473399Z",
     "start_time": "2022-05-25T22:43:55.426095Z"
    },
    "scrolled": true
   },
   "outputs": [],
   "source": [
    "\n",
    "#used for display the plot of the robot position using topic /pose\n",
    "class Visualiser:\n",
    "    \n",
    "    index = 0\n",
    "    \n",
    "    def __init__(self):\n",
    "        self.fig, self.ax = plt.subplots()\n",
    "        self.ln, = plt.plot([], [], 'ro')\n",
    "        self.x_data, self.y_data = [] , []\n",
    "    \n",
    "    def plot_init(self):\n",
    "        self.ax.set_xlim( -10, 10)\n",
    "        self.ax.set_ylim( -10, 10)\n",
    "        return self.ln\n",
    "    \n",
    "    def odom_callback(self, msg):\n",
    "        \n",
    "        self.index = self.index+1\n",
    "        \n",
    "        if self.index == 250:\n",
    "            if len(self.y_data) < 500:\n",
    "                self.y_data.append(msg.pose.pose.position.y)\n",
    "            else:\n",
    "                self.y_data.pop(0)\n",
    "                self.y_data.append(msg.pose.pose.position.y)\n",
    "\n",
    "            if len(self.x_data) < 500:\n",
    "                self.x_data.append(msg.pose.pose.position.x)\n",
    "            else:\n",
    "                self.x_data.pop(0)\n",
    "                self.x_data.append(msg.pose.pose.position.x)\n",
    "                \n",
    "            self.index = 0\n",
    "        \n",
    "            \n",
    "    \n",
    "    def update_plot(self, frame):\n",
    "        #print(\"updateing\")\n",
    "        self.ln.set_data(self.x_data, self.y_data)\n",
    "        return self.ln\n",
    "   \n",
    "    \n",
    "#used for display the laserScan sensor output\n",
    "#use of a polar plot for a simpler interpretation of the data\n",
    "#note that the robot heading angle is moved from 0deg to 90deg for semplicity of rappresentation\n",
    "class Visualiser2:\n",
    "    \n",
    "    def __init__(self):\n",
    "        self.fig, self.ax = plt.subplots( subplot_kw={'projection': 'polar'} )\n",
    "        self.ln, = plt.plot([], [], 'r.' )\n",
    "        self.theta_data = np.arange( 0, np.pi, np.pi/720.0)   #[rad]\n",
    "        self.d_data = []\n",
    "    \n",
    "    def plot_init(self):\n",
    "        #self.ax.set_xlim( -10, 10)\n",
    "        #self.ax.set_ylim( -10, 10)\n",
    "        self.ax.set_rmax(15)\n",
    "        return self.ln\n",
    "    \n",
    "        \n",
    "    def laserScan_callback(self, msg):\n",
    "            self.d_data = msg.ranges\n",
    "    \n",
    "    def update_plot(self, frame):\n",
    "        #print(\"updateing\")\n",
    "        self.ln.set_data( self.theta_data, self.d_data )\n",
    "        return self.ln\n",
    "\n",
    "\n",
    "\n",
    "\n",
    "\n",
    "\n",
    "\n",
    "\n",
    "\n"
   ]
  },
  {
   "cell_type": "code",
   "execution_count": 10,
   "id": "a2cccb81",
   "metadata": {},
   "outputs": [
    {
     "data": {
      "application/vnd.jupyter.widget-view+json": {
       "model_id": "f4a8d5ede6514045bdb8c0b454cbdfbc",
       "version_major": 2,
       "version_minor": 0
      },
      "text/plain": [
       "Canvas(toolbar=Toolbar(toolitems=[('Home', 'Reset original view', 'home', 'home'), ('Back', 'Back to previous …"
      ]
     },
     "metadata": {},
     "output_type": "display_data"
    },
    {
     "data": {
      "application/vnd.jupyter.widget-view+json": {
       "model_id": "e91814ded87049bd895b5922128f53c3",
       "version_major": 2,
       "version_minor": 0
      },
      "text/plain": [
       "Canvas(toolbar=Toolbar(toolitems=[('Home', 'Reset original view', 'home', 'home'), ('Back', 'Back to previous …"
      ]
     },
     "metadata": {},
     "output_type": "display_data"
    },
    {
     "data": {
      "text/plain": [
       "Text(0.5, 1.05, 'Laser scan figure')"
      ]
     },
     "execution_count": 10,
     "metadata": {},
     "output_type": "execute_result"
    }
   ],
   "source": [
    "#visualization of the first plot --> position of the robot\n",
    "vis = Visualiser()\n",
    "sub = rospy.Subscriber('/odom', Odometry, vis.odom_callback)\n",
    "ani = FuncAnimation(vis.fig, vis.update_plot, init_func=vis.plot_init, blit=True)\n",
    "plt.show(block=True)\n",
    "plt.title(\"Robot position figure\")\n",
    "\n",
    "#visualization of the second plot --> data from LaserScan sensor\n",
    "vis2 = Visualiser2()\n",
    "sub2 = rospy.Subscriber('/scan', LaserScan, vis2.laserScan_callback)\n",
    "ani2 = FuncAnimation(vis2.fig, vis2.update_plot, init_func=vis2.plot_init, blit=True)\n",
    "plt.show(block=True)\n",
    "plt.title(\"Laser scan figure\")\n"
   ]
  },
  {
   "cell_type": "code",
   "execution_count": 11,
   "id": "d2dab778",
   "metadata": {},
   "outputs": [
    {
     "data": {
      "application/vnd.jupyter.widget-view+json": {
       "model_id": "53cffb8bec2f4aadafa565971e747b59",
       "version_major": 2,
       "version_minor": 0
      },
      "text/plain": [
       "Canvas(toolbar=Toolbar(toolitems=[('Home', 'Reset original view', 'home', 'home'), ('Back', 'Back to previous …"
      ]
     },
     "metadata": {},
     "output_type": "display_data"
    },
    {
     "data": {
      "text/plain": [
       "Text(0.5, 1.0, 'reached point')"
      ]
     },
     "execution_count": 11,
     "metadata": {},
     "output_type": "execute_result"
    }
   ],
   "source": [
    "#histogram of the reached / not reached target in the automous navigation mode\n",
    "fig, ax = plt.subplots()\n",
    "_, _, ln, = ax.hist([])\n",
    "\n",
    "def init():\n",
    "    return ln,\n",
    "\n",
    "def update(frame):\n",
    "    ax.hist(reached_task, bins=3, color='green')\n",
    "    return ln,\n",
    "\n",
    "ani3 = FuncAnimation(fig, update, init_func=init, blit=True)\n",
    "plt.show()\n",
    "plt.title(\"reached point\")"
   ]
  },
  {
   "cell_type": "code",
   "execution_count": null,
   "id": "89e14bc9-7777-4cae-a32b-78aff5fc69f4",
   "metadata": {},
   "outputs": [],
   "source": []
  }
 ],
 "metadata": {
  "kernelspec": {
   "display_name": "Python 3 (ipykernel)",
   "language": "python",
   "name": "python3"
  },
  "language_info": {
   "codemirror_mode": {
    "name": "ipython",
    "version": 3
   },
   "file_extension": ".py",
   "mimetype": "text/x-python",
   "name": "python",
   "nbconvert_exporter": "python",
   "pygments_lexer": "ipython3",
   "version": "3.8.10"
  },
  "toc": {
   "base_numbering": 1,
   "nav_menu": {},
   "number_sections": true,
   "sideBar": true,
   "skip_h1_title": false,
   "title_cell": "Table of Contents",
   "title_sidebar": "Contents",
   "toc_cell": false,
   "toc_position": {},
   "toc_section_display": true,
   "toc_window_display": false
  },
  "varInspector": {
   "cols": {
    "lenName": 16,
    "lenType": 16,
    "lenVar": 40
   },
   "kernels_config": {
    "python": {
     "delete_cmd_postfix": "",
     "delete_cmd_prefix": "del ",
     "library": "var_list.py",
     "varRefreshCmd": "print(var_dic_list())"
    },
    "r": {
     "delete_cmd_postfix": ") ",
     "delete_cmd_prefix": "rm(",
     "library": "var_list.r",
     "varRefreshCmd": "cat(var_dic_list()) "
    }
   },
   "position": {
    "height": "618.85px",
    "left": "1056px",
    "right": "20px",
    "top": "120px",
    "width": "448px"
   },
   "types_to_exclude": [
    "module",
    "function",
    "builtin_function_or_method",
    "instance",
    "_Feature"
   ],
   "window_display": false
  }
 },
 "nbformat": 4,
 "nbformat_minor": 5
}
